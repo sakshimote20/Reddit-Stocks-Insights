{
 "cells": [
  {
   "cell_type": "code",
   "execution_count": 3,
   "id": "a40ef512-5174-461f-9b29-8c41991cd5d3",
   "metadata": {},
   "outputs": [
    {
     "name": "stdout",
     "output_type": "stream",
     "text": [
      "Collecting praw\n",
      "  Downloading praw-7.8.1-py3-none-any.whl.metadata (9.4 kB)\n",
      "Collecting prawcore<3,>=2.4 (from praw)\n",
      "  Downloading prawcore-2.4.0-py3-none-any.whl.metadata (5.0 kB)\n",
      "Collecting update_checker>=0.18 (from praw)\n",
      "  Downloading update_checker-0.18.0-py3-none-any.whl.metadata (2.3 kB)\n",
      "Requirement already satisfied: websocket-client>=0.54.0 in c:\\users\\sakshi mote\\anaconda3\\lib\\site-packages (from praw) (1.8.0)\n",
      "Requirement already satisfied: requests<3.0,>=2.6.0 in c:\\users\\sakshi mote\\anaconda3\\lib\\site-packages (from prawcore<3,>=2.4->praw) (2.32.2)\n",
      "Requirement already satisfied: charset-normalizer<4,>=2 in c:\\users\\sakshi mote\\anaconda3\\lib\\site-packages (from requests<3.0,>=2.6.0->prawcore<3,>=2.4->praw) (2.0.4)\n",
      "Requirement already satisfied: idna<4,>=2.5 in c:\\users\\sakshi mote\\anaconda3\\lib\\site-packages (from requests<3.0,>=2.6.0->prawcore<3,>=2.4->praw) (3.7)\n",
      "Requirement already satisfied: urllib3<3,>=1.21.1 in c:\\users\\sakshi mote\\anaconda3\\lib\\site-packages (from requests<3.0,>=2.6.0->prawcore<3,>=2.4->praw) (2.2.2)\n",
      "Requirement already satisfied: certifi>=2017.4.17 in c:\\users\\sakshi mote\\anaconda3\\lib\\site-packages (from requests<3.0,>=2.6.0->prawcore<3,>=2.4->praw) (2024.7.4)\n",
      "Downloading praw-7.8.1-py3-none-any.whl (189 kB)\n",
      "   ---------------------------------------- 0.0/189.3 kB ? eta -:--:--\n",
      "   ---------------------------------------- 0.0/189.3 kB ? eta -:--:--\n",
      "   -- ------------------------------------- 10.2/189.3 kB ? eta -:--:--\n",
      "   ------------------------- -------------- 122.9/189.3 kB 1.4 MB/s eta 0:00:01\n",
      "   ---------------------------------------- 189.3/189.3 kB 1.9 MB/s eta 0:00:00\n",
      "Downloading prawcore-2.4.0-py3-none-any.whl (17 kB)\n",
      "Downloading update_checker-0.18.0-py3-none-any.whl (7.0 kB)\n",
      "Installing collected packages: update_checker, prawcore, praw\n",
      "Successfully installed praw-7.8.1 prawcore-2.4.0 update_checker-0.18.0\n"
     ]
    }
   ],
   "source": [
    "!pip install praw"
   ]
  },
  {
   "cell_type": "code",
   "execution_count": 15,
   "id": "54efbce8-acf7-42b1-a104-e6932e051b49",
   "metadata": {},
   "outputs": [],
   "source": [
    "import praw\n",
    "import pandas as pd"
   ]
  },
  {
   "cell_type": "code",
   "execution_count": 17,
   "id": "d69b5c9f-8b69-4bfb-89e8-8ebaf7bbcfad",
   "metadata": {},
   "outputs": [],
   "source": [
    "# Reddit API credentials (replace with your credentials)\n",
    "client_id = 'aa0aXPVAnu3yZW3e7NzHnw'  # Replace with your client_id\n",
    "client_secret = '0Ojnda79FgaozyG6DJtMlQ3Gzt3MGA'  # Replace with your client_secret\n",
    "user_agent = 'python:stock_scraper:v1.0 (by /u/No_Respond1277)'  # Replace with your user_agent\n"
   ]
  },
  {
   "cell_type": "code",
   "execution_count": 19,
   "id": "d80ffe0f-6099-464c-a288-7f8dd9c116c9",
   "metadata": {},
   "outputs": [],
   "source": [
    "# Set up the Reddit client\n",
    "reddit = praw.Reddit(client_id=client_id, client_secret=client_secret, user_agent=user_agent)\n"
   ]
  },
  {
   "cell_type": "code",
   "execution_count": 21,
   "id": "b7dccb03-e15b-4892-bd00-b442748aceb0",
   "metadata": {},
   "outputs": [],
   "source": [
    "# Function to scrape stock-related data from a Reddit subreddit\n",
    "def scrape_stock_data(subreddit_name, count=10000):\n",
    "    # Get the subreddit\n",
    "    subreddit = reddit.subreddit(subreddit_name)\n",
    "    \n",
    "    stock_data = []\n",
    "    # Retrieve posts from the subreddit\n",
    "    for submission in subreddit.new(limit=count):\n",
    "        stock_data.append({\n",
    "            'title': submission.title,\n",
    "            'author': submission.author.name if submission.author else 'Unknown',\n",
    "            'score': submission.score,  # Reddit score: upvotes - downvotes\n",
    "            'upvotes': submission.ups,  # Number of upvotes (likes)\n",
    "            'url': submission.url,\n",
    "            'created_at': submission.created_utc,\n",
    "            'comments': submission.num_comments\n",
    "        })\n",
    "    \n",
    "    return stock_data"
   ]
  },
  {
   "cell_type": "code",
   "execution_count": 23,
   "id": "8edc9743-fe01-410e-81f2-d094b2e99e9f",
   "metadata": {},
   "outputs": [
    {
     "name": "stdout",
     "output_type": "stream",
     "text": [
      "Data saved to stock_data.csv\n",
      "                                            title            author  score  \\\n",
      "0                        Zeta global short attack          Woznyyyy      1   \n",
      "1                    C3AI begins to turn the tide          pregizex      7   \n",
      "2  Thoughts on building a 10Y high risk portfolio  Ok_Criticism_558      1   \n",
      "3            Thoughts and dilemma on Rocket Lab?         starlordbg      4   \n",
      "4                  What I learnt from MSTR frenzy         bsplondon     95   \n",
      "\n",
      "   upvotes                                                url    created_at  \\\n",
      "0        1  https://www.reddit.com/r/stocks/comments/1gx8x...  1.732285e+09   \n",
      "1        7  https://www.reddit.com/r/stocks/comments/1gx8r...  1.732285e+09   \n",
      "2        1  https://www.reddit.com/r/stocks/comments/1gx83...  1.732283e+09   \n",
      "3        4  https://www.reddit.com/r/stocks/comments/1gx7o...  1.732282e+09   \n",
      "4       95  https://www.reddit.com/r/stocks/comments/1gx4x...  1.732272e+09   \n",
      "\n",
      "   comments  \n",
      "0         0  \n",
      "1         5  \n",
      "2         5  \n",
      "3        46  \n",
      "4        44  \n"
     ]
    }
   ],
   "source": [
    "# Example usage\n",
    "subreddit_name = 'stocks'  # Replace with the subreddit you want to scrape (e.g., 'stocks', 'investing', 'wallstreetbets')\n",
    "data = scrape_stock_data(subreddit_name, count=10000)\n",
    "\n",
    "# Convert the list of dictionaries to a DataFrame\n",
    "df = pd.DataFrame(data)\n",
    "\n",
    "# Save the DataFrame to a CSV file\n",
    "csv_file = 'stock_data.csv'\n",
    "df.to_csv(csv_file, index=False)\n",
    "\n",
    "# Verify that the data is saved correctly\n",
    "print(f\"Data saved to {csv_file}\")\n",
    "print(df.head())  # Display the first few rows of the DataFrame"
   ]
  },
  {
   "cell_type": "code",
   "execution_count": 25,
   "id": "e3ef26df-0ddb-4c87-ad4b-8628d7d0e10c",
   "metadata": {},
   "outputs": [
    {
     "data": {
      "text/html": [
       "<div>\n",
       "<style scoped>\n",
       "    .dataframe tbody tr th:only-of-type {\n",
       "        vertical-align: middle;\n",
       "    }\n",
       "\n",
       "    .dataframe tbody tr th {\n",
       "        vertical-align: top;\n",
       "    }\n",
       "\n",
       "    .dataframe thead th {\n",
       "        text-align: right;\n",
       "    }\n",
       "</style>\n",
       "<table border=\"1\" class=\"dataframe\">\n",
       "  <thead>\n",
       "    <tr style=\"text-align: right;\">\n",
       "      <th></th>\n",
       "      <th>title</th>\n",
       "      <th>author</th>\n",
       "      <th>score</th>\n",
       "      <th>upvotes</th>\n",
       "      <th>url</th>\n",
       "      <th>created_at</th>\n",
       "      <th>comments</th>\n",
       "    </tr>\n",
       "  </thead>\n",
       "  <tbody>\n",
       "    <tr>\n",
       "      <th>0</th>\n",
       "      <td>Zeta global short attack</td>\n",
       "      <td>Woznyyyy</td>\n",
       "      <td>1</td>\n",
       "      <td>1</td>\n",
       "      <td>https://www.reddit.com/r/stocks/comments/1gx8x...</td>\n",
       "      <td>1.732285e+09</td>\n",
       "      <td>0</td>\n",
       "    </tr>\n",
       "    <tr>\n",
       "      <th>1</th>\n",
       "      <td>C3AI begins to turn the tide</td>\n",
       "      <td>pregizex</td>\n",
       "      <td>7</td>\n",
       "      <td>7</td>\n",
       "      <td>https://www.reddit.com/r/stocks/comments/1gx8r...</td>\n",
       "      <td>1.732285e+09</td>\n",
       "      <td>5</td>\n",
       "    </tr>\n",
       "    <tr>\n",
       "      <th>2</th>\n",
       "      <td>Thoughts on building a 10Y high risk portfolio</td>\n",
       "      <td>Ok_Criticism_558</td>\n",
       "      <td>1</td>\n",
       "      <td>1</td>\n",
       "      <td>https://www.reddit.com/r/stocks/comments/1gx83...</td>\n",
       "      <td>1.732283e+09</td>\n",
       "      <td>5</td>\n",
       "    </tr>\n",
       "    <tr>\n",
       "      <th>3</th>\n",
       "      <td>Thoughts and dilemma on Rocket Lab?</td>\n",
       "      <td>starlordbg</td>\n",
       "      <td>4</td>\n",
       "      <td>4</td>\n",
       "      <td>https://www.reddit.com/r/stocks/comments/1gx7o...</td>\n",
       "      <td>1.732282e+09</td>\n",
       "      <td>46</td>\n",
       "    </tr>\n",
       "    <tr>\n",
       "      <th>4</th>\n",
       "      <td>What I learnt from MSTR frenzy</td>\n",
       "      <td>bsplondon</td>\n",
       "      <td>95</td>\n",
       "      <td>95</td>\n",
       "      <td>https://www.reddit.com/r/stocks/comments/1gx4x...</td>\n",
       "      <td>1.732272e+09</td>\n",
       "      <td>44</td>\n",
       "    </tr>\n",
       "  </tbody>\n",
       "</table>\n",
       "</div>"
      ],
      "text/plain": [
       "                                            title            author  score  \\\n",
       "0                        Zeta global short attack          Woznyyyy      1   \n",
       "1                    C3AI begins to turn the tide          pregizex      7   \n",
       "2  Thoughts on building a 10Y high risk portfolio  Ok_Criticism_558      1   \n",
       "3            Thoughts and dilemma on Rocket Lab?         starlordbg      4   \n",
       "4                  What I learnt from MSTR frenzy         bsplondon     95   \n",
       "\n",
       "   upvotes                                                url    created_at  \\\n",
       "0        1  https://www.reddit.com/r/stocks/comments/1gx8x...  1.732285e+09   \n",
       "1        7  https://www.reddit.com/r/stocks/comments/1gx8r...  1.732285e+09   \n",
       "2        1  https://www.reddit.com/r/stocks/comments/1gx83...  1.732283e+09   \n",
       "3        4  https://www.reddit.com/r/stocks/comments/1gx7o...  1.732282e+09   \n",
       "4       95  https://www.reddit.com/r/stocks/comments/1gx4x...  1.732272e+09   \n",
       "\n",
       "   comments  \n",
       "0         0  \n",
       "1         5  \n",
       "2         5  \n",
       "3        46  \n",
       "4        44  "
      ]
     },
     "execution_count": 25,
     "metadata": {},
     "output_type": "execute_result"
    }
   ],
   "source": [
    "df.head()"
   ]
  },
  {
   "cell_type": "code",
   "execution_count": 27,
   "id": "84be3cea-d64f-4f87-a5f8-b772b87fd73c",
   "metadata": {},
   "outputs": [
    {
     "data": {
      "text/plain": [
       "(833, 7)"
      ]
     },
     "execution_count": 27,
     "metadata": {},
     "output_type": "execute_result"
    }
   ],
   "source": [
    "df.shape"
   ]
  },
  {
   "cell_type": "code",
   "execution_count": 29,
   "id": "a5912764-2ad6-42d0-8f05-6ea2c7f38bfe",
   "metadata": {},
   "outputs": [],
   "source": [
    "from datetime import datetime"
   ]
  },
  {
   "cell_type": "code",
   "execution_count": 31,
   "id": "4c5a0d2c-1fcb-499f-a353-d4c2deeb6647",
   "metadata": {},
   "outputs": [
    {
     "name": "stderr",
     "output_type": "stream",
     "text": [
      "C:\\Users\\SAKSHI MOTE\\AppData\\Local\\Temp\\ipykernel_27336\\1105863627.py:1: DeprecationWarning: datetime.datetime.utcfromtimestamp() is deprecated and scheduled for removal in a future version. Use timezone-aware objects to represent datetimes in UTC: datetime.datetime.fromtimestamp(timestamp, datetime.UTC).\n",
      "  df['created_at'] = df['created_at'].apply(lambda x: datetime.utcfromtimestamp(x).strftime('%Y-%m-%d %H:%M:%S'))\n"
     ]
    }
   ],
   "source": [
    "df['created_at'] = df['created_at'].apply(lambda x: datetime.utcfromtimestamp(x).strftime('%Y-%m-%d %H:%M:%S'))\n"
   ]
  },
  {
   "cell_type": "code",
   "execution_count": 33,
   "id": "c83f24af-d003-486a-a5a3-ef47bec77b0e",
   "metadata": {},
   "outputs": [
    {
     "data": {
      "text/html": [
       "<div>\n",
       "<style scoped>\n",
       "    .dataframe tbody tr th:only-of-type {\n",
       "        vertical-align: middle;\n",
       "    }\n",
       "\n",
       "    .dataframe tbody tr th {\n",
       "        vertical-align: top;\n",
       "    }\n",
       "\n",
       "    .dataframe thead th {\n",
       "        text-align: right;\n",
       "    }\n",
       "</style>\n",
       "<table border=\"1\" class=\"dataframe\">\n",
       "  <thead>\n",
       "    <tr style=\"text-align: right;\">\n",
       "      <th></th>\n",
       "      <th>title</th>\n",
       "      <th>author</th>\n",
       "      <th>score</th>\n",
       "      <th>upvotes</th>\n",
       "      <th>url</th>\n",
       "      <th>created_at</th>\n",
       "      <th>comments</th>\n",
       "    </tr>\n",
       "  </thead>\n",
       "  <tbody>\n",
       "    <tr>\n",
       "      <th>0</th>\n",
       "      <td>Zeta global short attack</td>\n",
       "      <td>Woznyyyy</td>\n",
       "      <td>1</td>\n",
       "      <td>1</td>\n",
       "      <td>https://www.reddit.com/r/stocks/comments/1gx8x...</td>\n",
       "      <td>2024-11-22 14:22:24</td>\n",
       "      <td>0</td>\n",
       "    </tr>\n",
       "    <tr>\n",
       "      <th>1</th>\n",
       "      <td>C3AI begins to turn the tide</td>\n",
       "      <td>pregizex</td>\n",
       "      <td>7</td>\n",
       "      <td>7</td>\n",
       "      <td>https://www.reddit.com/r/stocks/comments/1gx8r...</td>\n",
       "      <td>2024-11-22 14:13:30</td>\n",
       "      <td>5</td>\n",
       "    </tr>\n",
       "    <tr>\n",
       "      <th>2</th>\n",
       "      <td>Thoughts on building a 10Y high risk portfolio</td>\n",
       "      <td>Ok_Criticism_558</td>\n",
       "      <td>1</td>\n",
       "      <td>1</td>\n",
       "      <td>https://www.reddit.com/r/stocks/comments/1gx83...</td>\n",
       "      <td>2024-11-22 13:40:58</td>\n",
       "      <td>5</td>\n",
       "    </tr>\n",
       "    <tr>\n",
       "      <th>3</th>\n",
       "      <td>Thoughts and dilemma on Rocket Lab?</td>\n",
       "      <td>starlordbg</td>\n",
       "      <td>4</td>\n",
       "      <td>4</td>\n",
       "      <td>https://www.reddit.com/r/stocks/comments/1gx7o...</td>\n",
       "      <td>2024-11-22 13:20:19</td>\n",
       "      <td>46</td>\n",
       "    </tr>\n",
       "    <tr>\n",
       "      <th>4</th>\n",
       "      <td>What I learnt from MSTR frenzy</td>\n",
       "      <td>bsplondon</td>\n",
       "      <td>95</td>\n",
       "      <td>95</td>\n",
       "      <td>https://www.reddit.com/r/stocks/comments/1gx4x...</td>\n",
       "      <td>2024-11-22 10:35:09</td>\n",
       "      <td>44</td>\n",
       "    </tr>\n",
       "  </tbody>\n",
       "</table>\n",
       "</div>"
      ],
      "text/plain": [
       "                                            title            author  score  \\\n",
       "0                        Zeta global short attack          Woznyyyy      1   \n",
       "1                    C3AI begins to turn the tide          pregizex      7   \n",
       "2  Thoughts on building a 10Y high risk portfolio  Ok_Criticism_558      1   \n",
       "3            Thoughts and dilemma on Rocket Lab?         starlordbg      4   \n",
       "4                  What I learnt from MSTR frenzy         bsplondon     95   \n",
       "\n",
       "   upvotes                                                url  \\\n",
       "0        1  https://www.reddit.com/r/stocks/comments/1gx8x...   \n",
       "1        7  https://www.reddit.com/r/stocks/comments/1gx8r...   \n",
       "2        1  https://www.reddit.com/r/stocks/comments/1gx83...   \n",
       "3        4  https://www.reddit.com/r/stocks/comments/1gx7o...   \n",
       "4       95  https://www.reddit.com/r/stocks/comments/1gx4x...   \n",
       "\n",
       "            created_at  comments  \n",
       "0  2024-11-22 14:22:24         0  \n",
       "1  2024-11-22 14:13:30         5  \n",
       "2  2024-11-22 13:40:58         5  \n",
       "3  2024-11-22 13:20:19        46  \n",
       "4  2024-11-22 10:35:09        44  "
      ]
     },
     "execution_count": 33,
     "metadata": {},
     "output_type": "execute_result"
    }
   ],
   "source": [
    "df.head()"
   ]
  },
  {
   "cell_type": "code",
   "execution_count": 35,
   "id": "417cbac3-f2de-4b56-ab19-345b225d3505",
   "metadata": {},
   "outputs": [],
   "source": [
    "df.to_csv(\"stock_data.csv\",index=False)"
   ]
  },
  {
   "cell_type": "code",
   "execution_count": null,
   "id": "402b9a4e-9929-4283-8329-60f0270948b6",
   "metadata": {},
   "outputs": [],
   "source": []
  },
  {
   "cell_type": "code",
   "execution_count": null,
   "id": "be858acc-ca03-489b-bfbd-0323445bc505",
   "metadata": {},
   "outputs": [],
   "source": []
  }
 ],
 "metadata": {
  "kernelspec": {
   "display_name": "Python 3 (ipykernel)",
   "language": "python",
   "name": "python3"
  },
  "language_info": {
   "codemirror_mode": {
    "name": "ipython",
    "version": 3
   },
   "file_extension": ".py",
   "mimetype": "text/x-python",
   "name": "python",
   "nbconvert_exporter": "python",
   "pygments_lexer": "ipython3",
   "version": "3.12.4"
  }
 },
 "nbformat": 4,
 "nbformat_minor": 5
}
