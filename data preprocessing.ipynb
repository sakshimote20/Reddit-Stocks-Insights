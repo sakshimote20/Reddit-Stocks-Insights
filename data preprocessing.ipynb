{
 "cells": [
  {
   "cell_type": "code",
   "execution_count": 89,
   "id": "119a3e40-9b40-4fe0-ab7d-bbec7b2ae9b9",
   "metadata": {},
   "outputs": [],
   "source": [
    "import pandas as pd \n",
    "import nltk\n",
    "import re\n",
    "from nltk.corpus import stopwords\n",
    "from nltk.stem.porter import PorterStemmer\n"
   ]
  },
  {
   "cell_type": "markdown",
   "id": "7ec5be39-3737-4e17-816f-83f94ec821e5",
   "metadata": {},
   "source": [
    "## Data Preprocessing"
   ]
  },
  {
   "cell_type": "code",
   "execution_count": 53,
   "id": "283f492d-7d63-489a-9716-a7a1d38fa972",
   "metadata": {},
   "outputs": [],
   "source": [
    "df=pd.read_csv(\"stock_data.csv\")"
   ]
  },
  {
   "cell_type": "code",
   "execution_count": 55,
   "id": "017aab9c-4f0d-424d-8c13-bdee6ad3bf0e",
   "metadata": {},
   "outputs": [
    {
     "data": {
      "text/html": [
       "<div>\n",
       "<style scoped>\n",
       "    .dataframe tbody tr th:only-of-type {\n",
       "        vertical-align: middle;\n",
       "    }\n",
       "\n",
       "    .dataframe tbody tr th {\n",
       "        vertical-align: top;\n",
       "    }\n",
       "\n",
       "    .dataframe thead th {\n",
       "        text-align: right;\n",
       "    }\n",
       "</style>\n",
       "<table border=\"1\" class=\"dataframe\">\n",
       "  <thead>\n",
       "    <tr style=\"text-align: right;\">\n",
       "      <th></th>\n",
       "      <th>title</th>\n",
       "      <th>author</th>\n",
       "      <th>score</th>\n",
       "      <th>upvotes</th>\n",
       "      <th>url</th>\n",
       "      <th>created_at</th>\n",
       "      <th>comments</th>\n",
       "    </tr>\n",
       "  </thead>\n",
       "  <tbody>\n",
       "    <tr>\n",
       "      <th>0</th>\n",
       "      <td>Zeta global short attack</td>\n",
       "      <td>Woznyyyy</td>\n",
       "      <td>1</td>\n",
       "      <td>1</td>\n",
       "      <td>https://www.reddit.com/r/stocks/comments/1gx8x...</td>\n",
       "      <td>2024-11-22 14:22:24</td>\n",
       "      <td>0</td>\n",
       "    </tr>\n",
       "    <tr>\n",
       "      <th>1</th>\n",
       "      <td>C3AI begins to turn the tide</td>\n",
       "      <td>pregizex</td>\n",
       "      <td>7</td>\n",
       "      <td>7</td>\n",
       "      <td>https://www.reddit.com/r/stocks/comments/1gx8r...</td>\n",
       "      <td>2024-11-22 14:13:30</td>\n",
       "      <td>5</td>\n",
       "    </tr>\n",
       "    <tr>\n",
       "      <th>2</th>\n",
       "      <td>Thoughts on building a 10Y high risk portfolio</td>\n",
       "      <td>Ok_Criticism_558</td>\n",
       "      <td>1</td>\n",
       "      <td>1</td>\n",
       "      <td>https://www.reddit.com/r/stocks/comments/1gx83...</td>\n",
       "      <td>2024-11-22 13:40:58</td>\n",
       "      <td>5</td>\n",
       "    </tr>\n",
       "    <tr>\n",
       "      <th>3</th>\n",
       "      <td>Thoughts and dilemma on Rocket Lab?</td>\n",
       "      <td>starlordbg</td>\n",
       "      <td>4</td>\n",
       "      <td>4</td>\n",
       "      <td>https://www.reddit.com/r/stocks/comments/1gx7o...</td>\n",
       "      <td>2024-11-22 13:20:19</td>\n",
       "      <td>46</td>\n",
       "    </tr>\n",
       "    <tr>\n",
       "      <th>4</th>\n",
       "      <td>What I learnt from MSTR frenzy</td>\n",
       "      <td>bsplondon</td>\n",
       "      <td>95</td>\n",
       "      <td>95</td>\n",
       "      <td>https://www.reddit.com/r/stocks/comments/1gx4x...</td>\n",
       "      <td>2024-11-22 10:35:09</td>\n",
       "      <td>44</td>\n",
       "    </tr>\n",
       "  </tbody>\n",
       "</table>\n",
       "</div>"
      ],
      "text/plain": [
       "                                            title            author  score  \\\n",
       "0                        Zeta global short attack          Woznyyyy      1   \n",
       "1                    C3AI begins to turn the tide          pregizex      7   \n",
       "2  Thoughts on building a 10Y high risk portfolio  Ok_Criticism_558      1   \n",
       "3            Thoughts and dilemma on Rocket Lab?         starlordbg      4   \n",
       "4                  What I learnt from MSTR frenzy         bsplondon     95   \n",
       "\n",
       "   upvotes                                                url  \\\n",
       "0        1  https://www.reddit.com/r/stocks/comments/1gx8x...   \n",
       "1        7  https://www.reddit.com/r/stocks/comments/1gx8r...   \n",
       "2        1  https://www.reddit.com/r/stocks/comments/1gx83...   \n",
       "3        4  https://www.reddit.com/r/stocks/comments/1gx7o...   \n",
       "4       95  https://www.reddit.com/r/stocks/comments/1gx4x...   \n",
       "\n",
       "            created_at  comments  \n",
       "0  2024-11-22 14:22:24         0  \n",
       "1  2024-11-22 14:13:30         5  \n",
       "2  2024-11-22 13:40:58         5  \n",
       "3  2024-11-22 13:20:19        46  \n",
       "4  2024-11-22 10:35:09        44  "
      ]
     },
     "execution_count": 55,
     "metadata": {},
     "output_type": "execute_result"
    }
   ],
   "source": [
    "df.head()"
   ]
  },
  {
   "cell_type": "code",
   "execution_count": 57,
   "id": "13f12aa6-7449-4da6-9e68-fcd4fa258dae",
   "metadata": {},
   "outputs": [
    {
     "data": {
      "text/plain": [
       "title         0\n",
       "author        0\n",
       "score         0\n",
       "upvotes       0\n",
       "url           0\n",
       "created_at    0\n",
       "comments      0\n",
       "dtype: int64"
      ]
     },
     "execution_count": 57,
     "metadata": {},
     "output_type": "execute_result"
    }
   ],
   "source": [
    "df.isnull().sum() # checking for the null values"
   ]
  },
  {
   "cell_type": "code",
   "execution_count": 59,
   "id": "490c67e4-4dd2-4762-b057-512074729372",
   "metadata": {},
   "outputs": [
    {
     "name": "stderr",
     "output_type": "stream",
     "text": [
      "[nltk_data] Downloading package punkt to C:\\Users\\SAKSHI\n",
      "[nltk_data]     MOTE\\AppData\\Roaming\\nltk_data...\n",
      "[nltk_data]   Package punkt is already up-to-date!\n",
      "[nltk_data] Downloading package stopwords to C:\\Users\\SAKSHI\n",
      "[nltk_data]     MOTE\\AppData\\Roaming\\nltk_data...\n",
      "[nltk_data]   Package stopwords is already up-to-date!\n"
     ]
    },
    {
     "data": {
      "text/plain": [
       "True"
      ]
     },
     "execution_count": 59,
     "metadata": {},
     "output_type": "execute_result"
    }
   ],
   "source": [
    "# Ensure NLTK resources are downloaded\n",
    "nltk.download('punkt')\n",
    "nltk.download('stopwords')"
   ]
  },
  {
   "cell_type": "code",
   "execution_count": 61,
   "id": "97c036cd-4f24-4a2f-99fa-191b7ab543ed",
   "metadata": {},
   "outputs": [],
   "source": [
    "# Map scores to sentiment labels for supervised learning\n",
    "def map_score_to_sentiment(score):\n",
    "    if score >= 15:  # High score indicates Positive\n",
    "        return \"Positive\"\n",
    "    elif score >= 5:  # Medium score indicates Neutral\n",
    "        return \"Neutral\"\n",
    "    else:  # Low score indicates Negative\n",
    "        return \"Negative\"\n",
    "\n",
    "df['sentiment_label'] = df['score'].apply(map_score_to_sentiment)\n"
   ]
  },
  {
   "cell_type": "code",
   "execution_count": 71,
   "id": "f075d2f1-6a45-4088-bf5c-3de98ced8880",
   "metadata": {},
   "outputs": [],
   "source": [
    "# stemming\n",
    "port_stem = PorterStemmer()\n",
    "def stemming(content):\n",
    " stemmed_content = re.sub('[^a-zA-Z]',' ',content)\n",
    " stemmed_content = stemmed_content.lower()\n",
    " stemmed_content = stemmed_content.split()\n",
    " stemmed_content = [port_stem.stem(word) for word in stemmed_content if not word in stopwords.words('english')]\n",
    " stemmed_content = ' '.join(stemmed_content)\n",
    " return stemmed_content\n",
    " \n",
    "\n",
    "\n"
   ]
  },
  {
   "cell_type": "code",
   "execution_count": 73,
   "id": "6056e345-6f61-46f6-81f5-286d82d1dc2d",
   "metadata": {},
   "outputs": [],
   "source": [
    "df['stemmed_content']=df['title'].apply(stemming)\n"
   ]
  },
  {
   "cell_type": "code",
   "execution_count": 81,
   "id": "906912d3-59ac-44e2-97cf-36b0849ce367",
   "metadata": {},
   "outputs": [
    {
     "name": "stdout",
     "output_type": "stream",
     "text": [
      "Processed DataFrame:\n",
      "                                            title  \\\n",
      "0                        Zeta global short attack   \n",
      "1                    C3AI begins to turn the tide   \n",
      "2  Thoughts on building a 10Y high risk portfolio   \n",
      "3            Thoughts and dilemma on Rocket Lab?    \n",
      "4                  What I learnt from MSTR frenzy   \n",
      "\n",
      "                     stemmed_content  score sentiment_label  \n",
      "0           zeta global short attack      1        Negative  \n",
      "1               c ai begin turn tide      7         Neutral  \n",
      "2  thought build high risk portfolio      1        Negative  \n",
      "3         thought dilemma rocket lab      4        Negative  \n",
      "4                 learnt mstr frenzi     95        Positive  \n"
     ]
    }
   ],
   "source": [
    "# Display the processed DataFrame\n",
    "print(\"Processed DataFrame:\")\n",
    "print(df[['title', 'stemmed_content', 'score', 'sentiment_label']].head())\n"
   ]
  },
  {
   "cell_type": "code",
   "execution_count": 77,
   "id": "a731c6a3-e13e-4f2b-a7bf-ca654906d3b9",
   "metadata": {},
   "outputs": [
    {
     "data": {
      "text/html": [
       "<div>\n",
       "<style scoped>\n",
       "    .dataframe tbody tr th:only-of-type {\n",
       "        vertical-align: middle;\n",
       "    }\n",
       "\n",
       "    .dataframe tbody tr th {\n",
       "        vertical-align: top;\n",
       "    }\n",
       "\n",
       "    .dataframe thead th {\n",
       "        text-align: right;\n",
       "    }\n",
       "</style>\n",
       "<table border=\"1\" class=\"dataframe\">\n",
       "  <thead>\n",
       "    <tr style=\"text-align: right;\">\n",
       "      <th></th>\n",
       "      <th>title</th>\n",
       "      <th>author</th>\n",
       "      <th>score</th>\n",
       "      <th>upvotes</th>\n",
       "      <th>url</th>\n",
       "      <th>created_at</th>\n",
       "      <th>comments</th>\n",
       "      <th>sentiment_label</th>\n",
       "      <th>stemmed_content</th>\n",
       "    </tr>\n",
       "  </thead>\n",
       "  <tbody>\n",
       "    <tr>\n",
       "      <th>0</th>\n",
       "      <td>Zeta global short attack</td>\n",
       "      <td>Woznyyyy</td>\n",
       "      <td>1</td>\n",
       "      <td>1</td>\n",
       "      <td>https://www.reddit.com/r/stocks/comments/1gx8x...</td>\n",
       "      <td>2024-11-22 14:22:24</td>\n",
       "      <td>0</td>\n",
       "      <td>Negative</td>\n",
       "      <td>zeta global short attack</td>\n",
       "    </tr>\n",
       "    <tr>\n",
       "      <th>1</th>\n",
       "      <td>C3AI begins to turn the tide</td>\n",
       "      <td>pregizex</td>\n",
       "      <td>7</td>\n",
       "      <td>7</td>\n",
       "      <td>https://www.reddit.com/r/stocks/comments/1gx8r...</td>\n",
       "      <td>2024-11-22 14:13:30</td>\n",
       "      <td>5</td>\n",
       "      <td>Neutral</td>\n",
       "      <td>c ai begin turn tide</td>\n",
       "    </tr>\n",
       "    <tr>\n",
       "      <th>2</th>\n",
       "      <td>Thoughts on building a 10Y high risk portfolio</td>\n",
       "      <td>Ok_Criticism_558</td>\n",
       "      <td>1</td>\n",
       "      <td>1</td>\n",
       "      <td>https://www.reddit.com/r/stocks/comments/1gx83...</td>\n",
       "      <td>2024-11-22 13:40:58</td>\n",
       "      <td>5</td>\n",
       "      <td>Negative</td>\n",
       "      <td>thought build high risk portfolio</td>\n",
       "    </tr>\n",
       "    <tr>\n",
       "      <th>3</th>\n",
       "      <td>Thoughts and dilemma on Rocket Lab?</td>\n",
       "      <td>starlordbg</td>\n",
       "      <td>4</td>\n",
       "      <td>4</td>\n",
       "      <td>https://www.reddit.com/r/stocks/comments/1gx7o...</td>\n",
       "      <td>2024-11-22 13:20:19</td>\n",
       "      <td>46</td>\n",
       "      <td>Negative</td>\n",
       "      <td>thought dilemma rocket lab</td>\n",
       "    </tr>\n",
       "    <tr>\n",
       "      <th>4</th>\n",
       "      <td>What I learnt from MSTR frenzy</td>\n",
       "      <td>bsplondon</td>\n",
       "      <td>95</td>\n",
       "      <td>95</td>\n",
       "      <td>https://www.reddit.com/r/stocks/comments/1gx4x...</td>\n",
       "      <td>2024-11-22 10:35:09</td>\n",
       "      <td>44</td>\n",
       "      <td>Positive</td>\n",
       "      <td>learnt mstr frenzi</td>\n",
       "    </tr>\n",
       "  </tbody>\n",
       "</table>\n",
       "</div>"
      ],
      "text/plain": [
       "                                            title            author  score  \\\n",
       "0                        Zeta global short attack          Woznyyyy      1   \n",
       "1                    C3AI begins to turn the tide          pregizex      7   \n",
       "2  Thoughts on building a 10Y high risk portfolio  Ok_Criticism_558      1   \n",
       "3            Thoughts and dilemma on Rocket Lab?         starlordbg      4   \n",
       "4                  What I learnt from MSTR frenzy         bsplondon     95   \n",
       "\n",
       "   upvotes                                                url  \\\n",
       "0        1  https://www.reddit.com/r/stocks/comments/1gx8x...   \n",
       "1        7  https://www.reddit.com/r/stocks/comments/1gx8r...   \n",
       "2        1  https://www.reddit.com/r/stocks/comments/1gx83...   \n",
       "3        4  https://www.reddit.com/r/stocks/comments/1gx7o...   \n",
       "4       95  https://www.reddit.com/r/stocks/comments/1gx4x...   \n",
       "\n",
       "            created_at  comments sentiment_label  \\\n",
       "0  2024-11-22 14:22:24         0        Negative   \n",
       "1  2024-11-22 14:13:30         5         Neutral   \n",
       "2  2024-11-22 13:40:58         5        Negative   \n",
       "3  2024-11-22 13:20:19        46        Negative   \n",
       "4  2024-11-22 10:35:09        44        Positive   \n",
       "\n",
       "                     stemmed_content  \n",
       "0           zeta global short attack  \n",
       "1               c ai begin turn tide  \n",
       "2  thought build high risk portfolio  \n",
       "3         thought dilemma rocket lab  \n",
       "4                 learnt mstr frenzi  "
      ]
     },
     "execution_count": 77,
     "metadata": {},
     "output_type": "execute_result"
    }
   ],
   "source": [
    "df.head()"
   ]
  },
  {
   "cell_type": "code",
   "execution_count": 85,
   "id": "dd52edc7-1919-4d1b-a069-9c4ea1ab01ae",
   "metadata": {},
   "outputs": [],
   "source": [
    "df.to_csv(\"stock_data1.csv\")"
   ]
  },
  {
   "cell_type": "code",
   "execution_count": null,
   "id": "31c1ae1b-1fdb-4f32-b8ef-22dfc2c12b1c",
   "metadata": {},
   "outputs": [],
   "source": []
  }
 ],
 "metadata": {
  "kernelspec": {
   "display_name": "Python 3 (ipykernel)",
   "language": "python",
   "name": "python3"
  },
  "language_info": {
   "codemirror_mode": {
    "name": "ipython",
    "version": 3
   },
   "file_extension": ".py",
   "mimetype": "text/x-python",
   "name": "python",
   "nbconvert_exporter": "python",
   "pygments_lexer": "ipython3",
   "version": "3.12.4"
  }
 },
 "nbformat": 4,
 "nbformat_minor": 5
}
